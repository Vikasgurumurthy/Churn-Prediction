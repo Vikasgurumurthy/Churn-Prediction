{
 "cells": [
  {
   "cell_type": "markdown",
   "metadata": {},
   "source": [
    "# Churn Prediction \n",
    "\n",
    "Today competitive world businesses faces lot of challenges in retaining customer, cost of aquiring new customer is expensive than retaining the loyal customer who brings in the sales to company. So being able to predict when custoemr going to leave is key for a company to take action to retain the customer.\n",
    "\n",
    "The most common use of churn prediction is telecoms industry. We are going to apply various algorithems using scikit-learn python library to predict the customer churn. "
   ]
  },
  {
   "cell_type": "markdown",
   "metadata": {},
   "source": [
    "Following are the steps we followed to predict the customer Churn.\n",
    "\n",
    "•\tUnderstand the Business problem.<br>\n",
    "•\tExtract the data from the source.<br>\n",
    "•\tClean the data.<br>\n",
    "•\tDo Exploratory analysis of data.<br>\n",
    "•\tSelect the features for model.<br>\n",
    "•\tIdentify the models for binary classification problem.<br>\n",
    "•\tFit Model.<br>\n",
    "•\tMake predictions.<br>\n",
    "•\tEvaluate models and choose the best model."
   ]
  },
  {
   "cell_type": "code",
   "execution_count": 4,
   "metadata": {
    "collapsed": true
   },
   "outputs": [],
   "source": [
    "#Importing libraries.\n",
    "import pandas as pd\n",
    "import numpy as np\n",
    "from sklearn.model_selection import train_test_split\n",
    "from sklearn.ensemble import RandomForestClassifier\n",
    "from sklearn.metrics import confusion_matrix, roc_curve\n",
    "import matplotlib.pyplot as plt\n",
    "from sklearn.linear_model import LogisticRegression"
   ]
  },
  {
   "cell_type": "code",
   "execution_count": 5,
   "metadata": {
    "collapsed": true
   },
   "outputs": [],
   "source": [
    "#Importing data for analysis.\n",
    "df = pd.read_csv(\"C:\\\\Users\\\\vgurumurthy\\\\Desktop\\\\Dataset\\\\churn.csv\")"
   ]
  },
  {
   "cell_type": "code",
   "execution_count": 6,
   "metadata": {},
   "outputs": [
    {
     "data": {
      "text/html": [
       "<div>\n",
       "<style>\n",
       "    .dataframe thead tr:only-child th {\n",
       "        text-align: right;\n",
       "    }\n",
       "\n",
       "    .dataframe thead th {\n",
       "        text-align: left;\n",
       "    }\n",
       "\n",
       "    .dataframe tbody tr th {\n",
       "        vertical-align: top;\n",
       "    }\n",
       "</style>\n",
       "<table border=\"1\" class=\"dataframe\">\n",
       "  <thead>\n",
       "    <tr style=\"text-align: right;\">\n",
       "      <th></th>\n",
       "      <th>Account Length</th>\n",
       "      <th>VMail Message</th>\n",
       "      <th>Day Mins</th>\n",
       "      <th>Eve Mins</th>\n",
       "      <th>Night Mins</th>\n",
       "      <th>Intl Mins</th>\n",
       "      <th>CustServ Calls</th>\n",
       "      <th>Churn</th>\n",
       "      <th>Int'l Plan</th>\n",
       "      <th>VMail Plan</th>\n",
       "      <th>...</th>\n",
       "      <th>Day Charge</th>\n",
       "      <th>Eve Calls</th>\n",
       "      <th>Eve Charge</th>\n",
       "      <th>Night Calls</th>\n",
       "      <th>Night Charge</th>\n",
       "      <th>Intl Calls</th>\n",
       "      <th>Intl Charge</th>\n",
       "      <th>State</th>\n",
       "      <th>Area Code</th>\n",
       "      <th>Phone</th>\n",
       "    </tr>\n",
       "  </thead>\n",
       "  <tbody>\n",
       "    <tr>\n",
       "      <th>0</th>\n",
       "      <td>128</td>\n",
       "      <td>25</td>\n",
       "      <td>265.1</td>\n",
       "      <td>197.4</td>\n",
       "      <td>244.7</td>\n",
       "      <td>10.0</td>\n",
       "      <td>1</td>\n",
       "      <td>0</td>\n",
       "      <td>0</td>\n",
       "      <td>1</td>\n",
       "      <td>...</td>\n",
       "      <td>45.07</td>\n",
       "      <td>99</td>\n",
       "      <td>16.78</td>\n",
       "      <td>91</td>\n",
       "      <td>11.01</td>\n",
       "      <td>3</td>\n",
       "      <td>2.70</td>\n",
       "      <td>KS</td>\n",
       "      <td>415</td>\n",
       "      <td>382-4657</td>\n",
       "    </tr>\n",
       "    <tr>\n",
       "      <th>1</th>\n",
       "      <td>107</td>\n",
       "      <td>26</td>\n",
       "      <td>161.6</td>\n",
       "      <td>195.5</td>\n",
       "      <td>254.4</td>\n",
       "      <td>13.7</td>\n",
       "      <td>1</td>\n",
       "      <td>0</td>\n",
       "      <td>0</td>\n",
       "      <td>1</td>\n",
       "      <td>...</td>\n",
       "      <td>27.47</td>\n",
       "      <td>103</td>\n",
       "      <td>16.62</td>\n",
       "      <td>103</td>\n",
       "      <td>11.45</td>\n",
       "      <td>3</td>\n",
       "      <td>3.70</td>\n",
       "      <td>OH</td>\n",
       "      <td>415</td>\n",
       "      <td>371-7191</td>\n",
       "    </tr>\n",
       "    <tr>\n",
       "      <th>2</th>\n",
       "      <td>137</td>\n",
       "      <td>0</td>\n",
       "      <td>243.4</td>\n",
       "      <td>121.2</td>\n",
       "      <td>162.6</td>\n",
       "      <td>12.2</td>\n",
       "      <td>0</td>\n",
       "      <td>0</td>\n",
       "      <td>0</td>\n",
       "      <td>0</td>\n",
       "      <td>...</td>\n",
       "      <td>41.38</td>\n",
       "      <td>110</td>\n",
       "      <td>10.30</td>\n",
       "      <td>104</td>\n",
       "      <td>7.32</td>\n",
       "      <td>5</td>\n",
       "      <td>3.29</td>\n",
       "      <td>NJ</td>\n",
       "      <td>415</td>\n",
       "      <td>358-1921</td>\n",
       "    </tr>\n",
       "    <tr>\n",
       "      <th>3</th>\n",
       "      <td>84</td>\n",
       "      <td>0</td>\n",
       "      <td>299.4</td>\n",
       "      <td>61.9</td>\n",
       "      <td>196.9</td>\n",
       "      <td>6.6</td>\n",
       "      <td>2</td>\n",
       "      <td>0</td>\n",
       "      <td>1</td>\n",
       "      <td>0</td>\n",
       "      <td>...</td>\n",
       "      <td>50.90</td>\n",
       "      <td>88</td>\n",
       "      <td>5.26</td>\n",
       "      <td>89</td>\n",
       "      <td>8.86</td>\n",
       "      <td>7</td>\n",
       "      <td>1.78</td>\n",
       "      <td>OH</td>\n",
       "      <td>408</td>\n",
       "      <td>375-9999</td>\n",
       "    </tr>\n",
       "    <tr>\n",
       "      <th>4</th>\n",
       "      <td>75</td>\n",
       "      <td>0</td>\n",
       "      <td>166.7</td>\n",
       "      <td>148.3</td>\n",
       "      <td>186.9</td>\n",
       "      <td>10.1</td>\n",
       "      <td>3</td>\n",
       "      <td>0</td>\n",
       "      <td>1</td>\n",
       "      <td>0</td>\n",
       "      <td>...</td>\n",
       "      <td>28.34</td>\n",
       "      <td>122</td>\n",
       "      <td>12.61</td>\n",
       "      <td>121</td>\n",
       "      <td>8.41</td>\n",
       "      <td>3</td>\n",
       "      <td>2.73</td>\n",
       "      <td>OK</td>\n",
       "      <td>415</td>\n",
       "      <td>330-6626</td>\n",
       "    </tr>\n",
       "  </tbody>\n",
       "</table>\n",
       "<p>5 rows × 21 columns</p>\n",
       "</div>"
      ],
      "text/plain": [
       "   Account Length  VMail Message  Day Mins  Eve Mins  Night Mins  Intl Mins  \\\n",
       "0             128             25     265.1     197.4       244.7       10.0   \n",
       "1             107             26     161.6     195.5       254.4       13.7   \n",
       "2             137              0     243.4     121.2       162.6       12.2   \n",
       "3              84              0     299.4      61.9       196.9        6.6   \n",
       "4              75              0     166.7     148.3       186.9       10.1   \n",
       "\n",
       "   CustServ Calls  Churn  Int'l Plan  VMail Plan    ...     Day Charge  \\\n",
       "0               1      0           0           1    ...          45.07   \n",
       "1               1      0           0           1    ...          27.47   \n",
       "2               0      0           0           0    ...          41.38   \n",
       "3               2      0           1           0    ...          50.90   \n",
       "4               3      0           1           0    ...          28.34   \n",
       "\n",
       "   Eve Calls  Eve Charge  Night Calls  Night Charge  Intl Calls  Intl Charge  \\\n",
       "0         99       16.78           91         11.01           3         2.70   \n",
       "1        103       16.62          103         11.45           3         3.70   \n",
       "2        110       10.30          104          7.32           5         3.29   \n",
       "3         88        5.26           89          8.86           7         1.78   \n",
       "4        122       12.61          121          8.41           3         2.73   \n",
       "\n",
       "   State Area Code     Phone  \n",
       "0     KS       415  382-4657  \n",
       "1     OH       415  371-7191  \n",
       "2     NJ       415  358-1921  \n",
       "3     OH       408  375-9999  \n",
       "4     OK       415  330-6626  \n",
       "\n",
       "[5 rows x 21 columns]"
      ]
     },
     "execution_count": 6,
     "metadata": {},
     "output_type": "execute_result"
    }
   ],
   "source": [
    "#Viewing data \n",
    "df.head()"
   ]
  },
  {
   "cell_type": "code",
   "execution_count": 7,
   "metadata": {},
   "outputs": [
    {
     "name": "stdout",
     "output_type": "stream",
     "text": [
      "Number of rows: 3333\n"
     ]
    }
   ],
   "source": [
    "print(\"Number of rows:\",df.shape[0])"
   ]
  },
  {
   "cell_type": "markdown",
   "metadata": {},
   "source": [
    "# Exploratory data analysis\n",
    "\n",
    "<a href=\"https://ibb.co/iugMuw\"><img src=\"https://preview.ibb.co/dk3qnG/2018_01_04_11h38_22.png\" alt=\"2018_01_04_11h38_22\" border=\"0\"></a>\n",
    "\n"
   ]
  },
  {
   "cell_type": "markdown",
   "metadata": {},
   "source": [
    "<a href=\"https://ibb.co/dS8qnG\"><img src=\"https://preview.ibb.co/ktwzgb/2018_01_04_11h31_21.png\" alt=\"2018_01_04_11h31_21\" border=\"0\"></a><br /><a target='_blank' href='https://imgbb.com/'></a><br />"
   ]
  },
  {
   "cell_type": "markdown",
   "metadata": {},
   "source": [
    "<a href=\"https://imgbb.com/\"><img src=\"https://image.ibb.co/eXQ0Mb/2018_01_04_08h45_41.png\" alt=\"2018_01_04_08h45_41\" border=\"0\"></a>"
   ]
  },
  {
   "cell_type": "markdown",
   "metadata": {},
   "source": [
    "<a href=\"https://ibb.co/c6Ad7G\"><img src=\"https://preview.ibb.co/hFo9Ew/2018_01_04_15h51_57.png\" alt=\"2018_01_04_15h51_57\" border=\"0\"></a><br /><a target='_blank' href='https://imgbb.com/'></a><br />"
   ]
  },
  {
   "cell_type": "markdown",
   "metadata": {},
   "source": [
    "df.describe()"
   ]
  },
  {
   "cell_type": "code",
   "execution_count": 9,
   "metadata": {},
   "outputs": [
    {
     "data": {
      "text/html": [
       "<div>\n",
       "<style>\n",
       "    .dataframe thead tr:only-child th {\n",
       "        text-align: right;\n",
       "    }\n",
       "\n",
       "    .dataframe thead th {\n",
       "        text-align: left;\n",
       "    }\n",
       "\n",
       "    .dataframe tbody tr th {\n",
       "        vertical-align: top;\n",
       "    }\n",
       "</style>\n",
       "<table border=\"1\" class=\"dataframe\">\n",
       "  <thead>\n",
       "    <tr style=\"text-align: right;\">\n",
       "      <th></th>\n",
       "      <th>Count of Values</th>\n",
       "    </tr>\n",
       "  </thead>\n",
       "  <tbody>\n",
       "    <tr>\n",
       "      <th>Account Length</th>\n",
       "      <td>3333.0</td>\n",
       "    </tr>\n",
       "    <tr>\n",
       "      <th>VMail Message</th>\n",
       "      <td>3333.0</td>\n",
       "    </tr>\n",
       "    <tr>\n",
       "      <th>Day Mins</th>\n",
       "      <td>3333.0</td>\n",
       "    </tr>\n",
       "    <tr>\n",
       "      <th>Eve Mins</th>\n",
       "      <td>3333.0</td>\n",
       "    </tr>\n",
       "    <tr>\n",
       "      <th>Night Mins</th>\n",
       "      <td>3333.0</td>\n",
       "    </tr>\n",
       "    <tr>\n",
       "      <th>Intl Mins</th>\n",
       "      <td>3333.0</td>\n",
       "    </tr>\n",
       "    <tr>\n",
       "      <th>CustServ Calls</th>\n",
       "      <td>3333.0</td>\n",
       "    </tr>\n",
       "    <tr>\n",
       "      <th>Churn</th>\n",
       "      <td>3333.0</td>\n",
       "    </tr>\n",
       "    <tr>\n",
       "      <th>Int'l Plan</th>\n",
       "      <td>3333.0</td>\n",
       "    </tr>\n",
       "    <tr>\n",
       "      <th>VMail Plan</th>\n",
       "      <td>3333.0</td>\n",
       "    </tr>\n",
       "    <tr>\n",
       "      <th>Day Calls</th>\n",
       "      <td>3333.0</td>\n",
       "    </tr>\n",
       "    <tr>\n",
       "      <th>Day Charge</th>\n",
       "      <td>3333.0</td>\n",
       "    </tr>\n",
       "    <tr>\n",
       "      <th>Eve Calls</th>\n",
       "      <td>3333.0</td>\n",
       "    </tr>\n",
       "    <tr>\n",
       "      <th>Eve Charge</th>\n",
       "      <td>3333.0</td>\n",
       "    </tr>\n",
       "    <tr>\n",
       "      <th>Night Calls</th>\n",
       "      <td>3333.0</td>\n",
       "    </tr>\n",
       "    <tr>\n",
       "      <th>Night Charge</th>\n",
       "      <td>3333.0</td>\n",
       "    </tr>\n",
       "    <tr>\n",
       "      <th>Intl Calls</th>\n",
       "      <td>3333.0</td>\n",
       "    </tr>\n",
       "    <tr>\n",
       "      <th>Intl Charge</th>\n",
       "      <td>3333.0</td>\n",
       "    </tr>\n",
       "    <tr>\n",
       "      <th>Area Code</th>\n",
       "      <td>3333.0</td>\n",
       "    </tr>\n",
       "  </tbody>\n",
       "</table>\n",
       "</div>"
      ],
      "text/plain": [
       "                Count of Values\n",
       "Account Length           3333.0\n",
       "VMail Message            3333.0\n",
       "Day Mins                 3333.0\n",
       "Eve Mins                 3333.0\n",
       "Night Mins               3333.0\n",
       "Intl Mins                3333.0\n",
       "CustServ Calls           3333.0\n",
       "Churn                    3333.0\n",
       "Int'l Plan               3333.0\n",
       "VMail Plan               3333.0\n",
       "Day Calls                3333.0\n",
       "Day Charge               3333.0\n",
       "Eve Calls                3333.0\n",
       "Eve Charge               3333.0\n",
       "Night Calls              3333.0\n",
       "Night Charge             3333.0\n",
       "Intl Calls               3333.0\n",
       "Intl Charge              3333.0\n",
       "Area Code                3333.0"
      ]
     },
     "execution_count": 9,
     "metadata": {},
     "output_type": "execute_result"
    }
   ],
   "source": [
    "counts = df.describe().iloc[0]\n",
    "pd.DataFrame(counts.tolist(),columns=[\"Count of Values\"],index=counts.index.values)"
   ]
  },
  {
   "cell_type": "code",
   "execution_count": 10,
   "metadata": {
    "collapsed": true
   },
   "outputs": [],
   "source": [
    "df = df.drop([\"Phone\",\"Area Code\",\"State\"],axis=1)\n",
    "features = df.drop([\"Churn\"],axis=1).columns"
   ]
  },
  {
   "cell_type": "code",
   "execution_count": 11,
   "metadata": {},
   "outputs": [
    {
     "data": {
      "text/plain": [
       "Account Length      int64\n",
       "VMail Message       int64\n",
       "Day Mins          float64\n",
       "Eve Mins          float64\n",
       "Night Mins        float64\n",
       "Intl Mins         float64\n",
       "CustServ Calls      int64\n",
       "Churn               int64\n",
       "Int'l Plan          int64\n",
       "VMail Plan          int64\n",
       "Day Calls           int64\n",
       "Day Charge        float64\n",
       "Eve Calls           int64\n",
       "Eve Charge        float64\n",
       "Night Calls         int64\n",
       "Night Charge      float64\n",
       "Intl Calls          int64\n",
       "Intl Charge       float64\n",
       "dtype: object"
      ]
     },
     "execution_count": 11,
     "metadata": {},
     "output_type": "execute_result"
    }
   ],
   "source": [
    "df.dtypes"
   ]
  },
  {
   "cell_type": "code",
   "execution_count": 12,
   "metadata": {
    "collapsed": true
   },
   "outputs": [],
   "source": [
    "# Splitting Data into Training and test data.\n",
    "df_train,df_test = train_test_split(df,test_size=0.25)"
   ]
  },
  {
   "cell_type": "code",
   "execution_count": 13,
   "metadata": {
    "collapsed": true
   },
   "outputs": [],
   "source": [
    "# Use RandomForest,fit and score the model.\n",
    "Accuracy_score = []\n",
    "for i in range(1,50):    \n",
    "    clf = RandomForestClassifier(n_estimators=i)\n",
    "    clf.fit(df_train[features],df_train[\"Churn\"])\n",
    "    pred_clf = clf.predict(df_test[features])\n",
    "    probs = clf.predict_proba(df_test[features])\n",
    "    score = clf.score(df_test[features], df_test[\"Churn\"])\n",
    "    Accuracy_score.append(clf.score(df_test[features], df_test[\"Churn\"]))"
   ]
  },
  {
   "cell_type": "code",
   "execution_count": 14,
   "metadata": {},
   "outputs": [
    {
     "data": {
      "text/plain": [
       "0.95683453237410077"
      ]
     },
     "execution_count": 14,
     "metadata": {},
     "output_type": "execute_result"
    }
   ],
   "source": [
    "#Find the best score.\n",
    "max(Accuracy_score) "
   ]
  },
  {
   "cell_type": "code",
   "execution_count": 15,
   "metadata": {},
   "outputs": [
    {
     "data": {
      "text/html": [
       "<div>\n",
       "<style>\n",
       "    .dataframe thead tr:only-child th {\n",
       "        text-align: right;\n",
       "    }\n",
       "\n",
       "    .dataframe thead th {\n",
       "        text-align: left;\n",
       "    }\n",
       "\n",
       "    .dataframe tbody tr th {\n",
       "        vertical-align: top;\n",
       "    }\n",
       "</style>\n",
       "<table border=\"1\" class=\"dataframe\">\n",
       "  <thead>\n",
       "    <tr style=\"text-align: right;\">\n",
       "      <th></th>\n",
       "      <th>Predicted False</th>\n",
       "      <th>Predicted True</th>\n",
       "    </tr>\n",
       "  </thead>\n",
       "  <tbody>\n",
       "    <tr>\n",
       "      <th>Actual False</th>\n",
       "      <td>706</td>\n",
       "      <td>4</td>\n",
       "    </tr>\n",
       "    <tr>\n",
       "      <th>Actual True</th>\n",
       "      <td>32</td>\n",
       "      <td>92</td>\n",
       "    </tr>\n",
       "  </tbody>\n",
       "</table>\n",
       "</div>"
      ],
      "text/plain": [
       "              Predicted False  Predicted True\n",
       "Actual False              706               4\n",
       "Actual True                32              92"
      ]
     },
     "execution_count": 15,
     "metadata": {},
     "output_type": "execute_result"
    }
   ],
   "source": [
    "# Eavluation of model: Confusion matrix.\n",
    "pd.DataFrame(confusion_matrix(df_test[\"Churn\"],pred_clf),columns=[\"Predicted False\",\"Predicted True\"],index=[\"Actual False\",\"Actual True\"])"
   ]
  },
  {
   "cell_type": "code",
   "execution_count": 16,
   "metadata": {},
   "outputs": [
    {
     "data": {
      "image/png": "[encoded data removed]",
      "text/plain": [
       "<matplotlib.figure.Figure at 0x7434ea7cc0>"
      ]
     },
     "metadata": {},
     "output_type": "display_data"
    }
   ],
   "source": [
    "#Plotting of ROC Curve.\n",
    "fpr, tpr, thresholds = roc_curve(df_test[\"Churn\"],probs[:,1])\n",
    "plt.title(\"Reciever Operating Characteristic\")\n",
    "plt.plot(fpr,tpr,'b')\n",
    "plt.ylabel('True Positive Rate')\n",
    "plt.xlabel('False Positive Rate')\n",
    "plt.show()"
   ]
  },
  {
   "cell_type": "code",
   "execution_count": 17,
   "metadata": {
    "collapsed": true
   },
   "outputs": [],
   "source": [
    "# Use Logistic Regression, fit and score model.\n",
    "lr = LogisticRegression(penalty='l1')\n",
    "lr.fit(df_train[features],df_train[\"Churn\"])\n",
    "lr_predict = lr.predict(df_test[features])"
   ]
  },
  {
   "cell_type": "code",
   "execution_count": 18,
   "metadata": {},
   "outputs": [
    {
     "name": "stdout",
     "output_type": "stream",
     "text": [
      "Accuracy :  0.854916067146\n"
     ]
    }
   ],
   "source": [
    "# Accuracy score for the model.\n",
    "accuracy_score = lr.score(df_test[features],df_test[\"Churn\"])\n",
    "print(\"Accuracy : \", accuracy_score)"
   ]
  },
  {
   "cell_type": "code",
   "execution_count": 19,
   "metadata": {},
   "outputs": [
    {
     "data": {
      "text/html": [
       "<div>\n",
       "<style>\n",
       "    .dataframe thead tr:only-child th {\n",
       "        text-align: right;\n",
       "    }\n",
       "\n",
       "    .dataframe thead th {\n",
       "        text-align: left;\n",
       "    }\n",
       "\n",
       "    .dataframe tbody tr th {\n",
       "        vertical-align: top;\n",
       "    }\n",
       "</style>\n",
       "<table border=\"1\" class=\"dataframe\">\n",
       "  <thead>\n",
       "    <tr style=\"text-align: right;\">\n",
       "      <th></th>\n",
       "      <th>Predicted False</th>\n",
       "      <th>Predicted True</th>\n",
       "    </tr>\n",
       "  </thead>\n",
       "  <tbody>\n",
       "    <tr>\n",
       "      <th>Actual False</th>\n",
       "      <td>688</td>\n",
       "      <td>22</td>\n",
       "    </tr>\n",
       "    <tr>\n",
       "      <th>Actual True</th>\n",
       "      <td>99</td>\n",
       "      <td>25</td>\n",
       "    </tr>\n",
       "  </tbody>\n",
       "</table>\n",
       "</div>"
      ],
      "text/plain": [
       "              Predicted False  Predicted True\n",
       "Actual False              688              22\n",
       "Actual True                99              25"
      ]
     },
     "execution_count": 19,
     "metadata": {},
     "output_type": "execute_result"
    }
   ],
   "source": [
    "# Eavluation of model: Confusion matrix.\n",
    "pd.DataFrame(confusion_matrix(df_test[\"Churn\"],lr_predict),columns=[\"Predicted False\",\"Predicted True\"],index=[\"Actual False\",\"Actual True\"])"
   ]
  },
  {
   "cell_type": "code",
   "execution_count": 20,
   "metadata": {},
   "outputs": [
    {
     "data": {
      "image/png": "[encoded data removed]",
      "text/plain": [
       "<matplotlib.figure.Figure at 0x74352e9748>"
      ]
     },
     "metadata": {},
     "output_type": "display_data"
    }
   ],
   "source": [
    "#Plotting of ROC Curve.\n",
    "fpr, tpr, thresholds = roc_curve(df_test[\"Churn\"],lr_predict)\n",
    "plt.title(\"Reciever Operating Characteristic\")\n",
    "plt.plot(fpr,tpr,'b')\n",
    "plt.ylabel('True Positive Rate')\n",
    "plt.xlabel('False Positive Rate')\n",
    "plt.show()"
   ]
  },
  {
   "cell_type": "code",
   "execution_count": 21,
   "metadata": {
    "collapsed": true
   },
   "outputs": [],
   "source": [
    "#Use Naive Bayes model.\n",
    "from sklearn.naive_bayes import BernoulliNB\n",
    "clf1 = BernoulliNB()\n",
    "clf1.fit(df_train[features],df_train[\"Churn\"])\n",
    "clf1_predict = clf1.predict(df_test[features])"
   ]
  },
  {
   "cell_type": "code",
   "execution_count": 22,
   "metadata": {},
   "outputs": [
    {
     "name": "stdout",
     "output_type": "stream",
     "text": [
      "Accuracy :  0.840527577938\n"
     ]
    }
   ],
   "source": [
    "# Accuracy score for the model.\n",
    "accuracy_score = clf1.score(df_test[features],df_test[\"Churn\"])\n",
    "print(\"Accuracy : \", accuracy_score)"
   ]
  },
  {
   "cell_type": "code",
   "execution_count": 23,
   "metadata": {},
   "outputs": [
    {
     "data": {
      "text/html": [
       "<div>\n",
       "<style>\n",
       "    .dataframe thead tr:only-child th {\n",
       "        text-align: right;\n",
       "    }\n",
       "\n",
       "    .dataframe thead th {\n",
       "        text-align: left;\n",
       "    }\n",
       "\n",
       "    .dataframe tbody tr th {\n",
       "        vertical-align: top;\n",
       "    }\n",
       "</style>\n",
       "<table border=\"1\" class=\"dataframe\">\n",
       "  <thead>\n",
       "    <tr style=\"text-align: right;\">\n",
       "      <th></th>\n",
       "      <th>Predicted False</th>\n",
       "      <th>Predicted True</th>\n",
       "    </tr>\n",
       "  </thead>\n",
       "  <tbody>\n",
       "    <tr>\n",
       "      <th>Actual False</th>\n",
       "      <td>684</td>\n",
       "      <td>26</td>\n",
       "    </tr>\n",
       "    <tr>\n",
       "      <th>Actual True</th>\n",
       "      <td>107</td>\n",
       "      <td>17</td>\n",
       "    </tr>\n",
       "  </tbody>\n",
       "</table>\n",
       "</div>"
      ],
      "text/plain": [
       "              Predicted False  Predicted True\n",
       "Actual False              684              26\n",
       "Actual True               107              17"
      ]
     },
     "execution_count": 23,
     "metadata": {},
     "output_type": "execute_result"
    }
   ],
   "source": [
    "# Eavluation of model: Confusion matrix.\n",
    "pd.DataFrame(confusion_matrix(df_test[\"Churn\"],clf1_predict),columns=[\"Predicted False\",\"Predicted True\"],index=[\"Actual False\",\"Actual True\"])"
   ]
  },
  {
   "cell_type": "code",
   "execution_count": 24,
   "metadata": {},
   "outputs": [
    {
     "data": {
      "image/png": "[encoded data removed]",
      "text/plain": [
       "<matplotlib.figure.Figure at 0x743532d780>"
      ]
     },
     "metadata": {},
     "output_type": "display_data"
    }
   ],
   "source": [
    "#Plotting of ROC Curve.\n",
    "fpr, tpr, thresholds = roc_curve(df_test[\"Churn\"],clf1_predict)\n",
    "plt.title(\"Reciever Operating Characteristic\")\n",
    "plt.plot(fpr,tpr,'b')\n",
    "plt.ylabel('True Positive Rate')\n",
    "plt.xlabel('False Positive Rate')\n",
    "plt.show()"
   ]
  },
  {
   "cell_type": "code",
   "execution_count": 54,
   "metadata": {},
   "outputs": [
    {
     "data": {
      "text/html": [
       "<div>\n",
       "<style>\n",
       "    .dataframe thead tr:only-child th {\n",
       "        text-align: right;\n",
       "    }\n",
       "\n",
       "    .dataframe thead th {\n",
       "        text-align: left;\n",
       "    }\n",
       "\n",
       "    .dataframe tbody tr th {\n",
       "        vertical-align: top;\n",
       "    }\n",
       "</style>\n",
       "<table border=\"1\" class=\"dataframe\">\n",
       "  <thead>\n",
       "    <tr style=\"text-align: right;\">\n",
       "      <th></th>\n",
       "      <th>importance</th>\n",
       "      <th>labels</th>\n",
       "    </tr>\n",
       "  </thead>\n",
       "  <tbody>\n",
       "    <tr>\n",
       "      <th>2</th>\n",
       "      <td>0.144645</td>\n",
       "      <td>Day Mins</td>\n",
       "    </tr>\n",
       "    <tr>\n",
       "      <th>10</th>\n",
       "      <td>0.142189</td>\n",
       "      <td>Day Charge</td>\n",
       "    </tr>\n",
       "    <tr>\n",
       "      <th>6</th>\n",
       "      <td>0.121992</td>\n",
       "      <td>CustServ Calls</td>\n",
       "    </tr>\n",
       "    <tr>\n",
       "      <th>7</th>\n",
       "      <td>0.079792</td>\n",
       "      <td>Int'l Plan</td>\n",
       "    </tr>\n",
       "    <tr>\n",
       "      <th>3</th>\n",
       "      <td>0.069247</td>\n",
       "      <td>Eve Mins</td>\n",
       "    </tr>\n",
       "    <tr>\n",
       "      <th>12</th>\n",
       "      <td>0.062431</td>\n",
       "      <td>Eve Charge</td>\n",
       "    </tr>\n",
       "    <tr>\n",
       "      <th>16</th>\n",
       "      <td>0.044631</td>\n",
       "      <td>Intl Charge</td>\n",
       "    </tr>\n",
       "    <tr>\n",
       "      <th>5</th>\n",
       "      <td>0.044055</td>\n",
       "      <td>Intl Mins</td>\n",
       "    </tr>\n",
       "    <tr>\n",
       "      <th>15</th>\n",
       "      <td>0.043777</td>\n",
       "      <td>Intl Calls</td>\n",
       "    </tr>\n",
       "    <tr>\n",
       "      <th>4</th>\n",
       "      <td>0.036439</td>\n",
       "      <td>Night Mins</td>\n",
       "    </tr>\n",
       "    <tr>\n",
       "      <th>9</th>\n",
       "      <td>0.035713</td>\n",
       "      <td>Day Calls</td>\n",
       "    </tr>\n",
       "    <tr>\n",
       "      <th>13</th>\n",
       "      <td>0.033905</td>\n",
       "      <td>Night Calls</td>\n",
       "    </tr>\n",
       "    <tr>\n",
       "      <th>14</th>\n",
       "      <td>0.033809</td>\n",
       "      <td>Night Charge</td>\n",
       "    </tr>\n",
       "    <tr>\n",
       "      <th>1</th>\n",
       "      <td>0.033278</td>\n",
       "      <td>VMail Message</td>\n",
       "    </tr>\n",
       "    <tr>\n",
       "      <th>11</th>\n",
       "      <td>0.027297</td>\n",
       "      <td>Eve Calls</td>\n",
       "    </tr>\n",
       "    <tr>\n",
       "      <th>0</th>\n",
       "      <td>0.027263</td>\n",
       "      <td>Account Length</td>\n",
       "    </tr>\n",
       "    <tr>\n",
       "      <th>8</th>\n",
       "      <td>0.019536</td>\n",
       "      <td>VMail Plan</td>\n",
       "    </tr>\n",
       "  </tbody>\n",
       "</table>\n",
       "</div>"
      ],
      "text/plain": [
       "    importance          labels\n",
       "2     0.144645        Day Mins\n",
       "10    0.142189      Day Charge\n",
       "6     0.121992  CustServ Calls\n",
       "7     0.079792      Int'l Plan\n",
       "3     0.069247        Eve Mins\n",
       "12    0.062431      Eve Charge\n",
       "16    0.044631     Intl Charge\n",
       "5     0.044055       Intl Mins\n",
       "15    0.043777      Intl Calls\n",
       "4     0.036439      Night Mins\n",
       "9     0.035713       Day Calls\n",
       "13    0.033905     Night Calls\n",
       "14    0.033809    Night Charge\n",
       "1     0.033278   VMail Message\n",
       "11    0.027297       Eve Calls\n",
       "0     0.027263  Account Length\n",
       "8     0.019536      VMail Plan"
      ]
     },
     "execution_count": 54,
     "metadata": {},
     "output_type": "execute_result"
    }
   ],
   "source": [
    "# Find out importance of each feature on predicting variable(churn).\n",
    "df_f = pd.DataFrame(clf.feature_importances_, columns = ['importance'])\n",
    "df_f['labels'] = features\n",
    "df_f.sort_values('importance',ascending=False)"
   ]
  },
  {
   "cell_type": "code",
   "execution_count": 61,
   "metadata": {
    "collapsed": true
   },
   "outputs": [],
   "source": [
    "y_pos = np.arange(len(df_f['labels']))\n",
    "y = df_f['importance'].tolist()\n",
    "x = df_f['labels'].tolist()"
   ]
  },
  {
   "cell_type": "code",
   "execution_count": 63,
   "metadata": {},
   "outputs": [
    {
     "data": {
      "image/png": "[encoded data removed]",
      "text/plain": [
       "<matplotlib.figure.Figure at 0x7436471ba8>"
      ]
     },
     "metadata": {},
     "output_type": "display_data"
    }
   ],
   "source": [
    "plt.barh(y_pos,y,align='center',alpha=0.9)\n",
    "plt.yticks(y_pos,x)\n",
    "plt.show()"
   ]
  },
  {
   "cell_type": "markdown",
   "metadata": {},
   "source": [
    "## Conclusion:\n",
    "From the visualization we can draw conclusion that top 5 features influences the churn predictions are<br><br>\n",
    "1] Day Charge: Inorder to keep customers, offering a day calls relatively lower than other competitors may keep customer happy and lead to retention.<br>\n",
    "2] Day Mins: Extending the number of minutes that a customer can use without any extra charge may keep them happy.<br>\n",
    "3] Customer Service: Addressing each and every customer issues with highest priority may help to keep the customer happy.<br>\n",
    "4] International Plan: Customers have friends and family in other nations, that is how they connect to them, so offering more international minutes at competitive rate may keep customers happy.<br>\n",
    "5] Evening Mins: Adding more evening minutes may help customer to stick to current survice provider."
   ]
  },
  {
   "cell_type": "code",
   "execution_count": null,
   "metadata": {
    "collapsed": true
   },
   "outputs": [],
   "source": []
  }
 ],
 "metadata": {
  "kernelspec": {
   "display_name": "Python 3",
   "language": "python",
   "name": "python3"
  },
  "language_info": {
   "codemirror_mode": {
    "name": "ipython",
    "version": 3
   },
   "file_extension": ".py",
   "mimetype": "text/x-python",
   "name": "python",
   "nbconvert_exporter": "python",
   "pygments_lexer": "ipython3",
   "version": "3.6.1"
  }
 },
 "nbformat": 4,
 "nbformat_minor": 2
}
